{
 "cells": [
  {
   "cell_type": "code",
   "execution_count": 1,
   "metadata": {},
   "outputs": [],
   "source": [
    "import pandas as pd\n",
    "import numpy as np"
   ]
  },
  {
   "cell_type": "code",
   "execution_count": 73,
   "metadata": {},
   "outputs": [
    {
     "name": "stderr",
     "output_type": "stream",
     "text": [
      "C:\\ProgramData\\Anaconda3\\lib\\site-packages\\ipykernel_launcher.py:5: SettingWithCopyWarning: \n",
      "A value is trying to be set on a copy of a slice from a DataFrame.\n",
      "Try using .loc[row_indexer,col_indexer] = value instead\n",
      "\n",
      "See the caveats in the documentation: http://pandas.pydata.org/pandas-docs/stable/indexing.html#indexing-view-versus-copy\n",
      "  \"\"\"\n"
     ]
    }
   ],
   "source": [
    "# 종로구\n",
    "\n",
    "condition = df1['ADMI_NM'].str.contains('청운효자동|사직동|삼청동|부암동|평창동|무악동|교남동|가회동|종로1.2.3.4가동|종로5.6가동|이화동|혜화동|창신1동|창신2동|창신3동|숭인1동|숭인2동')\n",
    "df_j = df1[condition]\n",
    "df_j['P']=df_j['POP_CNT']/s[0][1]\n",
    "df_j=df_j.sort_values(by='P',ascending=False)\n",
    "del df_j['POP_CNT']\n",
    "df_j.to_csv('종로구_유동인구_비율.csv')"
   ]
  },
  {
   "cell_type": "code",
   "execution_count": 72,
   "metadata": {},
   "outputs": [
    {
     "name": "stderr",
     "output_type": "stream",
     "text": [
      "C:\\ProgramData\\Anaconda3\\lib\\site-packages\\ipykernel_launcher.py:5: SettingWithCopyWarning: \n",
      "A value is trying to be set on a copy of a slice from a DataFrame.\n",
      "Try using .loc[row_indexer,col_indexer] = value instead\n",
      "\n",
      "See the caveats in the documentation: http://pandas.pydata.org/pandas-docs/stable/indexing.html#indexing-view-versus-copy\n",
      "  \"\"\"\n"
     ]
    }
   ],
   "source": [
    "# 용산구\n",
    "\n",
    "condition = df1['ADMI_NM'].str.contains('후암|용산2가|남영|청파|원효로1동|원효로2동|효창|용문|한강로|이촌1|이촌2|이태원1|이태원2|한남|서빙고|보광')\n",
    "df_y = df1[condition]\n",
    "df_y['P']=df_y['POP_CNT']/s[0][1]\n",
    "df_y=df_y.sort_values(by='P',ascending=False)\n",
    "del df_y['POP_CNT']\n",
    "df_y.to_csv('용산구_유동인구_비율.csv')"
   ]
  },
  {
   "cell_type": "code",
   "execution_count": 74,
   "metadata": {},
   "outputs": [
    {
     "name": "stderr",
     "output_type": "stream",
     "text": [
      "C:\\ProgramData\\Anaconda3\\lib\\site-packages\\ipykernel_launcher.py:5: SettingWithCopyWarning: \n",
      "A value is trying to be set on a copy of a slice from a DataFrame.\n",
      "Try using .loc[row_indexer,col_indexer] = value instead\n",
      "\n",
      "See the caveats in the documentation: http://pandas.pydata.org/pandas-docs/stable/indexing.html#indexing-view-versus-copy\n",
      "  \"\"\"\n"
     ]
    }
   ],
   "source": [
    "# 중구\n",
    "\n",
    "condition = df1['ADMI_NM'].str.contains('소공|회현|명동|필|장충|광희|을지로|신당|다산|약수|청구|신당5|동화|황학|중림')\n",
    "df_m = df1[condition]\n",
    "df_m['P']=df_m['POP_CNT']/s[0][1]\n",
    "df_m=df_m.sort_values(by='P',ascending=False)\n",
    "del df_m['POP_CNT']\n",
    "df_m.to_csv('중구_유동인구_비율.csv')"
   ]
  }
 ],
 "metadata": {
  "kernelspec": {
   "display_name": "Python 3",
   "language": "python",
   "name": "python3"
  },
  "language_info": {
   "codemirror_mode": {
    "name": "ipython",
    "version": 3
   },
   "file_extension": ".py",
   "mimetype": "text/x-python",
   "name": "python",
   "nbconvert_exporter": "python",
   "pygments_lexer": "ipython3",
   "version": "3.8.8"
  }
 },
 "nbformat": 4,
 "nbformat_minor": 2
}
