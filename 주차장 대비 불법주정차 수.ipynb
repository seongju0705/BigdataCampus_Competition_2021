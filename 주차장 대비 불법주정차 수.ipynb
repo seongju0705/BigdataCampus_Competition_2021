{
 "cells": [
  {
   "cell_type": "markdown",
   "id": "bb5bc9ff",
   "metadata": {},
   "source": [
    "# 주차장 수 대비 불법주정차 건수"
   ]
  },
  {
   "cell_type": "code",
   "execution_count": 1,
   "id": "0b8d6c64",
   "metadata": {},
   "outputs": [],
   "source": [
    "import pandas as pd\n",
    "import matplotlib.pyplot as plt"
   ]
  },
  {
   "cell_type": "code",
   "execution_count": 2,
   "id": "c86c4113",
   "metadata": {
    "scrolled": true
   },
   "outputs": [],
   "source": [
    "# 동 병합 함수\n",
    "\n",
    "def combineD(df,g,s):\n",
    "\n",
    "    condition = df['동'].str.contains(s)\n",
    "    _df = df[condition]\n",
    "    _index = _df.index\n",
    "    df.loc[_index[0]] = (g,s+'동',_df['주차장 수'].sum())\n",
    "    df = df.drop(index=_index[1:])\n",
    "    return df\n",
    "\n",
    "def combineU(df,g,s):\n",
    "\n",
    "    condition = df['동'].str.contains(s)\n",
    "    _df = df[condition]\n",
    "    _index = _df.index\n",
    "    df.loc[_index[0]] = (g,s+'동',_df['불법주정차 수'].sum())\n",
    "    df = df.drop(index=_index[1:])\n",
    "    return df"
   ]
  },
  {
   "cell_type": "markdown",
   "id": "d8cffc45",
   "metadata": {},
   "source": [
    "### 01. 불법주정차 데이터"
   ]
  },
  {
   "cell_type": "code",
   "execution_count": 3,
   "id": "32696dcb",
   "metadata": {},
   "outputs": [
    {
     "ename": "NameError",
     "evalue": "name 'gpd' is not defined",
     "output_type": "error",
     "traceback": [
      "\u001b[1;31m---------------------------------------------------------------------------\u001b[0m",
      "\u001b[1;31mNameError\u001b[0m                                 Traceback (most recent call last)",
      "\u001b[1;32m<ipython-input-3-a75bb7531bf8>\u001b[0m in \u001b[0;36m<module>\u001b[1;34m\u001b[0m\n\u001b[1;32m----> 1\u001b[1;33m \u001b[0mdf\u001b[0m \u001b[1;33m=\u001b[0m \u001b[0mgpd\u001b[0m\u001b[1;33m.\u001b[0m\u001b[0mread_file\u001b[0m\u001b[1;33m(\u001b[0m\u001b[1;34m\"TL_UNLAW_PKSP_RET_LC_2017.shp\"\u001b[0m\u001b[1;33m,\u001b[0m\u001b[0mencoding\u001b[0m\u001b[1;33m=\u001b[0m\u001b[1;34m'cp949'\u001b[0m\u001b[1;33m)\u001b[0m\u001b[1;33m\u001b[0m\u001b[1;33m\u001b[0m\u001b[0m\n\u001b[0m\u001b[0;32m      2\u001b[0m \u001b[0mpd\u001b[0m\u001b[1;33m.\u001b[0m\u001b[0mset_option\u001b[0m\u001b[1;33m(\u001b[0m\u001b[1;34m'display.max_columns'\u001b[0m\u001b[1;33m,\u001b[0m \u001b[1;32mNone\u001b[0m\u001b[1;33m)\u001b[0m\u001b[1;33m\u001b[0m\u001b[1;33m\u001b[0m\u001b[0m\n\u001b[0;32m      3\u001b[0m \u001b[1;33m\u001b[0m\u001b[0m\n\u001b[0;32m      4\u001b[0m \u001b[0mdf\u001b[0m\u001b[1;33m.\u001b[0m\u001b[0minfo\u001b[0m\u001b[1;33m(\u001b[0m\u001b[1;33m)\u001b[0m\u001b[1;33m\u001b[0m\u001b[1;33m\u001b[0m\u001b[0m\n\u001b[0;32m      5\u001b[0m \u001b[0mdf\u001b[0m\u001b[1;33m\u001b[0m\u001b[1;33m\u001b[0m\u001b[0m\n",
      "\u001b[1;31mNameError\u001b[0m: name 'gpd' is not defined"
     ]
    }
   ],
   "source": [
    "df = gpd.read_file(\"TL_UNLAW_PKSP_RET_LC_2017.shp\",encoding='cp949')\n",
    "pd.set_option('display.max_columns', None)\n",
    "\n",
    "df.info()\n",
    "df"
   ]
  },
  {
   "cell_type": "code",
   "execution_count": null,
   "id": "dfca5f23",
   "metadata": {},
   "outputs": [],
   "source": [
    "df.duplicated().sum()"
   ]
  },
  {
   "cell_type": "code",
   "execution_count": null,
   "id": "4c0e7a33",
   "metadata": {},
   "outputs": [],
   "source": [
    "# 갯수 세기 위해 cnt 열 추가\n",
    "df['cnt'] = 1\n",
    "df.head()"
   ]
  },
  {
   "cell_type": "code",
   "execution_count": null,
   "id": "1d70b177",
   "metadata": {},
   "outputs": [],
   "source": [
    "# 구별 그룹화 진행\n",
    "\n",
    "df_g = df.groupby(['SGG_NM','EMD_NM']).sum().reset_index()\n",
    "df_g"
   ]
  },
  {
   "cell_type": "code",
   "execution_count": null,
   "id": "523cdecb",
   "metadata": {},
   "outputs": [],
   "source": [
    "# 구별 그룹화 진행(cnt만)\n",
    "\n",
    "df_c = df.groupby(['SGG_NM','EMD_NM'])['cnt'].sum().reset_index()\n",
    "df_c"
   ]
  },
  {
   "cell_type": "code",
   "execution_count": null,
   "id": "387a1b0a",
   "metadata": {},
   "outputs": [],
   "source": [
    "# 9개 구 추출\n",
    "\n",
    "pd.set_option('display.max_rows', None)\n",
    "condition = df_c['SGG_NM'].str.contains(\"은평구|마포구|서대문구|종로구|용산구|중구|성북구|강북구|도봉구\")\n",
    "f_df = df_c[condition]\n",
    "f_df = f_df.sort_values(by=['SGG_NM'])\n",
    "f_df"
   ]
  },
  {
   "cell_type": "code",
   "execution_count": null,
   "id": "cd97a103",
   "metadata": {},
   "outputs": [],
   "source": [
    "# 컬럼 이름 변경\n",
    "f_df.rename(columns = {'SGG_NM' : '자치구'}, inplace = True)\n",
    "f_df.rename(columns = {'EMD_NM' : '동'}, inplace = True)\n",
    "f_df.rename(columns = {'cnt' : '불법주정차 수'}, inplace = True)\n",
    "f_df = f_df.reset_index()\n",
    "del f_df['index']\n",
    "f_df"
   ]
  },
  {
   "cell_type": "code",
   "execution_count": null,
   "id": "64cf3c6a",
   "metadata": {},
   "outputs": [],
   "source": [
    "# 236,99,41,101 제거\n",
    "\n",
    "f_df = f_df.drop([41,99,101,238])\n",
    "f_df.head()"
   ]
  },
  {
   "cell_type": "code",
   "execution_count": null,
   "id": "df1499a7",
   "metadata": {},
   "outputs": [],
   "source": [
    "# 타입변경\n",
    "f_df = f_df.astype({'불법주정차 수': 'float'})\n",
    "f_df.info()"
   ]
  },
  {
   "cell_type": "code",
   "execution_count": null,
   "id": "fb60f345",
   "metadata": {},
   "outputs": [],
   "source": [
    "f_df"
   ]
  },
  {
   "cell_type": "code",
   "execution_count": null,
   "id": "ee2d4df3",
   "metadata": {},
   "outputs": [],
   "source": [
    "f_df = combineU(f_df,'서대문구','충정로')\n",
    "f_df = combineU(f_df,'성북구','삼선')\n",
    "f_df = combineU(f_df,'성북구','성북')\n",
    "f_df = combineU(f_df,'성북구','안암')\n",
    "f_df = combineU(f_df,'성북구','보문')\n",
    "f_df = combineU(f_df,'성북구','동소문')\n",
    "f_df = combineU(f_df,'성북구','동선')\n",
    "f_df = combineU(f_df,'용산구','원효로')\n",
    "f_df = combineU(f_df,'용산구','청파')\n",
    "f_df = combineU(f_df,'용산구','한강로')\n",
    "f_df = combineU(f_df,'용산구','용산')\n",
    "# f_df = combineU(f_df,'종로구','명륜')\n",
    "f_df = combineU(f_df,'종로구','종로')\n",
    "f_df = combineU(f_df,'종로구','신문로')\n",
    "f_df = combineU(f_df,'중구','필')\n",
    "f_df = combineU(f_df,'중구','인현')\n",
    "f_df = combineU(f_df,'중구','장충')\n",
    "f_df = combineU(f_df,'중구','을지로')\n",
    "f_df = combineU(f_df,'중구','의주로')\n",
    "f_df = combineU(f_df,'중구','저')\n",
    "f_df = combineU(f_df,'중구','충무로')\n",
    "f_df = combineU(f_df,'중구','회현')\n",
    "f_df = combineU(f_df,'중구','태평로')\n",
    "f_df = combineU(f_df,'중구','남산')\n",
    "f_df = combineU(f_df,'중구','남대문로')\n",
    "f_df = combineU(f_df,'중구','광희')\n",
    "f_df = combineU(f_df,'중구','만리')\n",
    "f_df = combineU(f_df,'중구','명')\n",
    "f_df = combineU(f_df,'중구','봉래')"
   ]
  },
  {
   "cell_type": "markdown",
   "id": "990df0e7",
   "metadata": {},
   "source": [
    "### 02. 주차장 데이터"
   ]
  },
  {
   "cell_type": "code",
   "execution_count": null,
   "id": "3d334950",
   "metadata": {},
   "outputs": [],
   "source": [
    "pkl=pd.read_csv('report.txt', sep = \"\\t\", engine='python', encoding = \"utf-8\")\n",
    "pkl.info()\n",
    "pkl.head()"
   ]
  },
  {
   "cell_type": "code",
   "execution_count": null,
   "id": "fcb87273",
   "metadata": {},
   "outputs": [],
   "source": [
    "# 구, 동, 합계만 \n",
    "\n",
    "condition = pkl['자치구'].str.contains(\"은평구|마포구|서대문구|종로구|용산구|중구|성북구|강북구|도봉구\")\n",
    "df_p = pkl[condition]\n",
    "df_p = df_p[['자치구','동','합계.1']]\n",
    "df_p.head()"
   ]
  },
  {
   "cell_type": "code",
   "execution_count": null,
   "id": "5e3602c5",
   "metadata": {},
   "outputs": [],
   "source": [
    "# 소계 제거\n",
    "\n",
    "park_df = df_p[df_p.동 != '소계']\n",
    "park_df = park_df.sort_values(by=['자치구'])\n",
    "park_df.rename(columns = {'합계.1' : '주차장 수'}, inplace = True)\n",
    "park_df = park_df.reset_index()\n",
    "del park_df['index']\n",
    "park_df"
   ]
  },
  {
   "cell_type": "code",
   "execution_count": null,
   "id": "75d256ec",
   "metadata": {},
   "outputs": [],
   "source": [
    "# 타읿 변경\n",
    "park_df['주차장 수'] = park_df['주차장 수'].apply(lambda x: x.replace(',', ''))\n",
    "park_df['주차장 수']= pd.to_numeric(park_df['주차장 수'])"
   ]
  },
  {
   "cell_type": "code",
   "execution_count": null,
   "id": "b9dc3fb6",
   "metadata": {},
   "outputs": [],
   "source": [
    "park_df.info()"
   ]
  },
  {
   "cell_type": "code",
   "execution_count": null,
   "id": "3fe288cb",
   "metadata": {},
   "outputs": [],
   "source": [
    "# 동 병합\n",
    "park_df = combineD(park_df,'강북구','수유')\n",
    "park_df = combineD(park_df,'강북구','번')\n",
    "park_df = combineD(park_df,'도봉구','쌍문')\n",
    "park_df = combineD(park_df,'도봉구','방학')\n",
    "park_df = combineD(park_df,'도봉구','창')\n",
    "park_df = combineD(park_df,'도봉구','도봉')\n",
    "park_df = combineD(park_df,'마포구','성산')\n",
    "park_df = combineD(park_df,'마포구','망원')\n",
    "park_df = combineD(park_df,'서대문구','홍제')\n",
    "park_df = combineD(park_df,'서대문구','홍은')\n",
    "park_df = combineD(park_df,'서대문구','북가좌')\n",
    "park_df = combineD(park_df,'서대문구','남가좌')\n",
    "park_df = combineD(park_df,'성북구','정릉')\n",
    "park_df = combineD(park_df,'성북구','돈암')\n",
    "park_df = combineD(park_df,'성북구','장위')\n",
    "park_df = combineD(park_df,'성북구','월곡')\n",
    "park_df = combineD(park_df,'성북구','길음')\n",
    "park_df = combineD(park_df,'용산구','이태원')\n",
    "park_df = combineD(park_df,'용산구','이촌')\n",
    "park_df = combineD(park_df,'용산구','원효로')\n",
    "park_df = combineD(park_df,'은평구','응암')\n",
    "park_df = combineD(park_df,'은평구','신사')\n",
    "park_df = combineD(park_df,'은평구','갈현')\n",
    "park_df = combineD(park_df,'은평구','불광')\n",
    "park_df = combineD(park_df,'종로구','숭인')\n",
    "park_df = combineD(park_df,'종로구','종로')\n",
    "park_df = combineD(park_df,'종로구','효자')\n",
    "park_df = combineD(park_df,'중구','신당')"
   ]
  },
  {
   "cell_type": "code",
   "execution_count": null,
   "id": "b79e9798",
   "metadata": {},
   "outputs": [],
   "source": [
    "park_df"
   ]
  },
  {
   "cell_type": "markdown",
   "id": "7a6dfc29",
   "metadata": {},
   "source": [
    "### 03. 데이터 병합"
   ]
  },
  {
   "cell_type": "code",
   "execution_count": null,
   "id": "34a90e49",
   "metadata": {},
   "outputs": [],
   "source": [
    "DF = pd.merge(f_df,park_df,how='outer')\n",
    "DF = DF.sort_values(by=['자치구'])\n",
    "DF = DF.reset_index()\n",
    "del DF['index']\n",
    "DF.info()\n",
    "DF"
   ]
  },
  {
   "cell_type": "code",
   "execution_count": null,
   "id": "e723b70f",
   "metadata": {},
   "outputs": [],
   "source": [
    "# Null값 제거\n",
    "\n",
    "DF = DF.dropna(0)\n",
    "DF.info()\n",
    "DF.head()"
   ]
  },
  {
   "cell_type": "code",
   "execution_count": null,
   "id": "d9d1a1cc",
   "metadata": {},
   "outputs": [],
   "source": [
    "DF['UR/P'] = DF['불법주정차 수'] / DF['주차장 수']\n",
    "DF.head()"
   ]
  },
  {
   "cell_type": "code",
   "execution_count": null,
   "id": "05606a6f",
   "metadata": {},
   "outputs": [],
   "source": [
    "DF = DF.sort_values(by=['UR/P'],ascending=False)\n",
    "DF.head()"
   ]
  },
  {
   "cell_type": "code",
   "execution_count": null,
   "id": "72cf77ef",
   "metadata": {},
   "outputs": [],
   "source": [
    "def callTop3(df,s1):\n",
    "    condition = df['자치구'].str.contains(s1)\n",
    "    df_f = df[condition]\n",
    "    df_f = df_f.reset_index()\n",
    "    df_f = df_f.loc['0':'2','자치구':'UR/P']\n",
    "    return df_f"
   ]
  },
  {
   "cell_type": "code",
   "execution_count": null,
   "id": "bc4a7520",
   "metadata": {},
   "outputs": [],
   "source": [
    "df1 = callTop3(DF,'중구')\n",
    "df2 = callTop3(DF,'마포구')\n",
    "df3 = callTop3(DF,'서대문구')\n",
    "df4 = callTop3(DF,'용산구')\n",
    "df5 = callTop3(DF,'성북구')\n",
    "df6 = callTop3(DF,'종로구')\n",
    "df7 = callTop3(DF,'도봉구')\n",
    "df8 = callTop3(DF,'강북구')\n",
    "df9 = callTop3(DF,'은평구')"
   ]
  },
  {
   "cell_type": "code",
   "execution_count": null,
   "id": "0ca63972",
   "metadata": {},
   "outputs": [],
   "source": [
    "df_final = pd.concat([df1,df2])\n",
    "df_final = pd.concat([df_final,df3])\n",
    "df_final = pd.concat([df_final,df4])\n",
    "df_final = pd.concat([df_final,df5])\n",
    "df_final = pd.concat([df_final,df6])\n",
    "df_final = pd.concat([df_final,df7])\n",
    "df_final = pd.concat([df_final,df8])\n",
    "df_final = pd.concat([df_final,df9])"
   ]
  },
  {
   "cell_type": "code",
   "execution_count": null,
   "id": "fb362488",
   "metadata": {},
   "outputs": [],
   "source": [
    "df_final"
   ]
  },
  {
   "cell_type": "code",
   "execution_count": null,
   "id": "8447b25e",
   "metadata": {},
   "outputs": [],
   "source": []
  }
 ],
 "metadata": {
  "kernelspec": {
   "display_name": "Python 3",
   "language": "python",
   "name": "python3"
  },
  "language_info": {
   "codemirror_mode": {
    "name": "ipython",
    "version": 3
   },
   "file_extension": ".py",
   "mimetype": "text/x-python",
   "name": "python",
   "nbconvert_exporter": "python",
   "pygments_lexer": "ipython3",
   "version": "3.8.8"
  }
 },
 "nbformat": 4,
 "nbformat_minor": 5
}
